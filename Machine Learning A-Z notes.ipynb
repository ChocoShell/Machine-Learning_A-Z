{
 "cells": [
  {
   "cell_type": "markdown",
   "metadata": {},
   "source": [
    "# Section 1\n",
    "Applications of ML\n",
    "\n",
    "1. Facebook Face Detection\n",
    "2. Xbox Kinect uses Random Forest\n",
    "3. VR Headsets - How does the machine know what to portray?\n",
    "4. Text to Speech, Voice Recognition on phones.\n",
    "5. Robot dogs learn how to walk and use reinforcement learning\n",
    "6. Facebook Ads\n",
    "7. Amazon, Netflix, Audible for recommender systems\n",
    "8. Used in Xray detection\n",
    "9. Used in space on maps to connect pictures\n",
    "10. Used on mars to explore."
   ]
  },
  {
   "cell_type": "markdown",
   "metadata": {},
   "source": [
    "# Section 2 - Data Preprocessing\n",
    "https://www.superdatascience.com/machine-learning is where the data sets are stored.\n",
    "\n",
    "Dataset is a list of people and has the columns Country, Age, Salary, Purchased.  Purchased is if they bought a product or not.\n",
    "\n",
    "Purchased is the dependent variable and all the others are independent.  So, we are trying to predict Purchased."
   ]
  }
 ],
 "metadata": {
  "kernelspec": {
   "display_name": "Python 3",
   "language": "python",
   "name": "python3"
  },
  "language_info": {
   "codemirror_mode": {
    "name": "ipython",
    "version": 3
   },
   "file_extension": ".py",
   "mimetype": "text/x-python",
   "name": "python",
   "nbconvert_exporter": "python",
   "pygments_lexer": "ipython3",
   "version": "3.6.4"
  }
 },
 "nbformat": 4,
 "nbformat_minor": 2
}
